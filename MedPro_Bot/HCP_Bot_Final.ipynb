{
 "cells": [
  {
   "cell_type": "code",
   "execution_count": 1,
   "metadata": {},
   "outputs": [],
   "source": [
    "from selenium import webdriver\n",
    "from selenium.webdriver.chrome.options import Options\n",
    "from selenium.webdriver.common.keys import Keys\n",
    "from selenium.webdriver.common.by import By\n",
    "from selenium.webdriver.support.ui import WebDriverWait\n",
    "from selenium.webdriver.support import expected_conditions as EC\n",
    "from tqdm.notebook import tqdm\n",
    "import pandas as pd\n",
    "import csv\n",
    "import re"
   ]
  },
  {
   "cell_type": "markdown",
   "metadata": {},
   "source": [
    "<p style= \"font-size:15px;font-weight:bold\">Importing to pandas Dataframe</p>"
   ]
  },
  {
   "cell_type": "code",
   "execution_count": 2,
   "metadata": {},
   "outputs": [
    {
     "data": {
      "text/html": [
       "<div>\n",
       "<style scoped>\n",
       "    .dataframe tbody tr th:only-of-type {\n",
       "        vertical-align: middle;\n",
       "    }\n",
       "\n",
       "    .dataframe tbody tr th {\n",
       "        vertical-align: top;\n",
       "    }\n",
       "\n",
       "    .dataframe thead th {\n",
       "        text-align: right;\n",
       "    }\n",
       "</style>\n",
       "<table border=\"1\" class=\"dataframe\">\n",
       "  <thead>\n",
       "    <tr style=\"text-align: right;\">\n",
       "      <th></th>\n",
       "      <th>NPI_no</th>\n",
       "      <th>First_name</th>\n",
       "      <th>Last_name</th>\n",
       "      <th>City</th>\n",
       "      <th>State</th>\n",
       "      <th>Zip</th>\n",
       "    </tr>\n",
       "  </thead>\n",
       "  <tbody>\n",
       "    <tr>\n",
       "      <th>0</th>\n",
       "      <td>1225181969</td>\n",
       "      <td>LINDA</td>\n",
       "      <td>NaN</td>\n",
       "      <td>NaN</td>\n",
       "      <td>NH</td>\n",
       "      <td>NaN</td>\n",
       "    </tr>\n",
       "    <tr>\n",
       "      <th>1</th>\n",
       "      <td>NaN</td>\n",
       "      <td>BRIDGET</td>\n",
       "      <td>TIERNEY</td>\n",
       "      <td>NaN</td>\n",
       "      <td>MN</td>\n",
       "      <td>55082</td>\n",
       "    </tr>\n",
       "    <tr>\n",
       "      <th>2</th>\n",
       "      <td>1295732089</td>\n",
       "      <td>JAMES</td>\n",
       "      <td>NaN</td>\n",
       "      <td>ORLANDO</td>\n",
       "      <td>NaN</td>\n",
       "      <td>32803</td>\n",
       "    </tr>\n",
       "    <tr>\n",
       "      <th>3</th>\n",
       "      <td>NaN</td>\n",
       "      <td>RYAN</td>\n",
       "      <td>MORGAN</td>\n",
       "      <td>NaN</td>\n",
       "      <td>KS</td>\n",
       "      <td>67037</td>\n",
       "    </tr>\n",
       "  </tbody>\n",
       "</table>\n",
       "</div>"
      ],
      "text/plain": [
       "       NPI_no First_name Last_name     City State    Zip\n",
       "0  1225181969      LINDA       NaN      NaN    NH    NaN\n",
       "1         NaN    BRIDGET   TIERNEY      NaN    MN  55082\n",
       "2  1295732089      JAMES       NaN  ORLANDO   NaN  32803\n",
       "3         NaN       RYAN    MORGAN      NaN    KS  67037"
      ]
     },
     "execution_count": 2,
     "metadata": {},
     "output_type": "execute_result"
    }
   ],
   "source": [
    "df = pd.read_excel(r\"C:\\Users\\770430\\Desktop\\Biogen_NPI_Files\\Medpro\\Input\\medpro_hcp_input.xlsx\", dtype=str)\n",
    "df"
   ]
  },
  {
   "cell_type": "code",
   "execution_count": 3,
   "metadata": {},
   "outputs": [
    {
     "data": {
      "text/html": [
       "<div>\n",
       "<style scoped>\n",
       "    .dataframe tbody tr th:only-of-type {\n",
       "        vertical-align: middle;\n",
       "    }\n",
       "\n",
       "    .dataframe tbody tr th {\n",
       "        vertical-align: top;\n",
       "    }\n",
       "\n",
       "    .dataframe thead th {\n",
       "        text-align: right;\n",
       "    }\n",
       "</style>\n",
       "<table border=\"1\" class=\"dataframe\">\n",
       "  <thead>\n",
       "    <tr style=\"text-align: right;\">\n",
       "      <th></th>\n",
       "      <th>NPI_no</th>\n",
       "      <th>First_name</th>\n",
       "      <th>Last_name</th>\n",
       "      <th>City</th>\n",
       "      <th>State</th>\n",
       "      <th>Zip</th>\n",
       "    </tr>\n",
       "  </thead>\n",
       "  <tbody>\n",
       "    <tr>\n",
       "      <th>0</th>\n",
       "      <td>1225181969</td>\n",
       "      <td>LINDA</td>\n",
       "      <td></td>\n",
       "      <td></td>\n",
       "      <td>NH</td>\n",
       "      <td></td>\n",
       "    </tr>\n",
       "    <tr>\n",
       "      <th>1</th>\n",
       "      <td></td>\n",
       "      <td>BRIDGET</td>\n",
       "      <td>TIERNEY</td>\n",
       "      <td></td>\n",
       "      <td>MN</td>\n",
       "      <td>55082</td>\n",
       "    </tr>\n",
       "    <tr>\n",
       "      <th>2</th>\n",
       "      <td>1295732089</td>\n",
       "      <td>JAMES</td>\n",
       "      <td></td>\n",
       "      <td>ORLANDO</td>\n",
       "      <td></td>\n",
       "      <td>32803</td>\n",
       "    </tr>\n",
       "    <tr>\n",
       "      <th>3</th>\n",
       "      <td></td>\n",
       "      <td>RYAN</td>\n",
       "      <td>MORGAN</td>\n",
       "      <td></td>\n",
       "      <td>KS</td>\n",
       "      <td>67037</td>\n",
       "    </tr>\n",
       "  </tbody>\n",
       "</table>\n",
       "</div>"
      ],
      "text/plain": [
       "       NPI_no First_name Last_name     City State    Zip\n",
       "0  1225181969      LINDA                       NH       \n",
       "1                BRIDGET   TIERNEY             MN  55082\n",
       "2  1295732089      JAMES            ORLANDO        32803\n",
       "3                   RYAN    MORGAN             KS  67037"
      ]
     },
     "execution_count": 3,
     "metadata": {},
     "output_type": "execute_result"
    }
   ],
   "source": [
    "df.fillna(value='', inplace=True)\n",
    "df"
   ]
  },
  {
   "cell_type": "markdown",
   "metadata": {},
   "source": [
    "<p style= \"font-size: 15px\">Initialize <b>Dictionary</b> containing all the field names to be fetched</p>"
   ]
  },
  {
   "cell_type": "code",
   "execution_count": 4,
   "metadata": {},
   "outputs": [
    {
     "name": "stdout",
     "output_type": "stream",
     "text": [
      "13\n",
      "16\n",
      "17\n",
      "22\n",
      "17\n",
      "24\n",
      "8\n"
     ]
    }
   ],
   "source": [
    "SLN_DICT = {\"MedProID\":0, \"Name\":1, \"Address_1\":2, \"Address_2\":3, \"Zip\":4, \"RDI\":5, \"License State\":6, \"License\":7,\n",
    "            \"License Expires\":8, \"Status\":9, \"Prof Designation\":10, \"Certification Code\":11, \"Description\":12}\n",
    "len_SLN_DICT = len(SLN_DICT)\n",
    "print(len_SLN_DICT)\n",
    "\n",
    "DEA_DICT = {\"MedProID\":0, \"Name\":1, \"Address_1\":2, \"Address_2\":3, \"Zip\":4, \"RDI\":5, \"DEA State\":6, \"DEA\":7, \n",
    "            \"DEA License Status\":8, \"DEA  Expires\":9, \"Registrant Type\":10, \"Business Activity Code\":11, \"Drug Schedule\":12, \n",
    "            \"Payment Indicator\":13, \"State Provided License\":14, \"Last Received Date\":15}\n",
    "len_DEA_DICT = len(DEA_DICT)\n",
    "print(len_DEA_DICT)\n",
    "\n",
    "CDS_DICT = {\"MedProID\":0, \"Name\":1, \"Address_1\":2, \"Address_2\":3, \"Zip\":4, \"RDI\":5, \"CDS State\":6, \"CDS\":7,\n",
    "            \"CDS License Status\":8, \"CDS  Expires\":9, \"CDS Prof Designation\":10, \"CDS Drug Schedule\":11, \n",
    "            \"CDS Specialty\":12, \"Disciplinary Action\":13, \"State Provided Prof Designation\":14, \n",
    "            \"State Provided License\":15, \"Last Received Date\":16}\n",
    "len_CDS_DICT = len(CDS_DICT)\n",
    "print(len_CDS_DICT)\n",
    "\n",
    "NPI_DICT = {\"MedProID\":0, \"Name\":1, \"Mailing_Address\":2,\"Mail_Zip\":3, \"RDI\":0, \"Phone\":0, \"Fax\":0, \"Business_Address\":7,\n",
    "           \"Bus_Zip\":8, \"NPI\":12, \"NPI State\":13, \"NPI Provided Status\":14, \"NPI Taxonomy\":15, \"NPI Provided State License\":16,\n",
    "           \"Gender\":17, \"Enumeration Date\":18, \"Last Update Date\":19, \"CMS VPL Name\":20,\n",
    "           \"CMS VPL State of License\":21, \"CMS VPL State License Number\":22, \n",
    "           \"State Provided License\":23, \"Last Received Date\":24}\n",
    "len_NPI_DICT = len(NPI_DICT)\n",
    "print(len_NPI_DICT)\n",
    "\n",
    "MPC_DICT = {\"MPC NPI\":0, \"PAC ID\":1, \"Professional EnrollmentID\":2, \"Name\":3, \"Designation\":4, \"Group Practice\":5, \n",
    "           \"Group Practice PAC ID\":6, \"Address_1\":7, \"Address_2\":8, \"Zip\":9, \"RDI\":10, \"Phone\":11, \"Primary Specialty\":12, \n",
    "           \"Medical School\":13, \"Graduation Year\":14, \"First Received Date\":15, \"Last Received Date\":16}\n",
    "len_MPC_DICT = len(MPC_DICT)\n",
    "print(len_MPC_DICT)\n",
    "\n",
    "AMA_DICT = {\"MedProID\":0, \"Name\":1, \"Address_1\":2, \"Address_2\":3, \"Zip\":4, \"RDI\":5, \"Telephone\":6, \"Medical Education\":7, \n",
    "           \"AMA Provided License State\":8, \"AMA Provided State License\":9, \"AMA Provided License Expires\":10,\n",
    "           \"AMA Provided Status\":11, \"AMA PDRP\":12, \"AMA Contact Restrictions\":13, \"Prof Designation\":14,\n",
    "           \"Primary Specialty\":15, \"Secondary Specialty\":16, \"Birth Date\":17, \"Birth CityCountry\":18, \"Graduation School\":19,\n",
    "           \"Year of Graduation\":20, \"State Provided License\":21, \"As of Date\":22, \"Last Received Date\":23}\n",
    "len_AMA_DICT = len(AMA_DICT)\n",
    "print(len_AMA_DICT)\n",
    "\n",
    "BESTINFO_SET = {\"MedProMasterID\",\"HCP Profile Status\",\"HCP Profile Designation\",\"Veteran Administration HCP\",\n",
    "                \"Confidence Level\",\"CityStateZip\",\"Primary\",\"Secondary\"}\n",
    "len_BESTINFO_SET = len(BESTINFO_SET)\n",
    "print(len_BESTINFO_SET)"
   ]
  },
  {
   "cell_type": "markdown",
   "metadata": {},
   "source": [
    "<p style= \"font-size: 15px\">Initialize list containing all the column names to be included in the <b>csv</b> file</p>"
   ]
  },
  {
   "cell_type": "code",
   "execution_count": 5,
   "metadata": {},
   "outputs": [],
   "source": [
    "OUTPUT_COLS = [ # --- SLN cols ---\n",
    "                \"SLN_MedProID\",\"SLN_Name\",\"SLN_Addr_Line_1\",\"SLN_Addr_Line_2\",\"SLN_City_State_Zip\",\"SLN_RDI\",\n",
    "                \"SLN_License_State\",\"SLN_License_num\",\"SLN_License_Expires\",\"SLN_Status\",\"SLN_Prof_Designation\",\n",
    "                \"SLN_Certification_Code\",\"SLN_Description\",\n",
    "                # --- DEA cols ---\n",
    "                \"DEA_MedProID\",\"DEA_Name\",\"DEA_Addr_Line_1\",\"DEA_Addr_Line_2\",\"DEA_City_State_Zip\",\"DEA_RDI\",\"DEA_State\",\n",
    "                \"DEA_num\",\"DEA_License_Status\",\"DEA_Expires\",\"Registrant_Type\",\"Business_Activity_Code\",\"Drug_Schedule\",\n",
    "                \"Payment_Indicator\",\"DEA_State_Provided_License\",\"Last_Received_Date\", \n",
    "                # --- CDS cols ---\n",
    "                \"CDS_MedProID\",\"CDS_Name\",\"CDS_Addr_Line_1\",\"CDS_Addr_Line_2\",\"CDS_City_State_Zip\",\"CDS_RDI\",\"CDS_State\",\n",
    "                \"CDS_num\",\"CDS_License_Status\",\"CDS_Expires\",\"CDS_Prof_Designation\",\"CDS_Drug_Schedule\",\"CDS_Specialty\",\n",
    "                \"Disciplinary_Action\",\"State_Provided_Prof_Designation\",\"State_Provided_License\",\"Last_Received_Date\",\n",
    "                # --- NPI cols ---\n",
    "                \"NPI_MedProID\",\"NPI_Name\",\"NPI_Mailing_Addr\",\"NPI_Mailing_City_State_Zip\",\"NPI_Mailing_RDI\",\"NPI_Mailing_Phone\",\n",
    "                \"NPI_Mailing_Fax\",\"NPI_Bussiness_Addr\",\"NPI_Business_City_State_Zip\",\"NPI_Business_RDI\",\"NPI_Business_Phone\",\n",
    "                \"NPI_Business_Fax\",\"NPI_num\",\"NPI_State\",\"NPI_Provided_Status\",\"NPI_Taxonomy\",\"NPI_Provided_State_License\",\n",
    "                \"Gender\",\"Enumeration_Date\",\"Last_Update_Date\",\"CMS_VPL_Name\",\"CMS_VPL_State_of_License\",\n",
    "                \"CMS_VPL_State_License_Number\",\"NPI_State_Provided_License\",\"Last_Received_Date\",\n",
    "                # --- MPC cols ---\n",
    "                \"MPC_NPI_num\",\"MPC_PAC_ID\",\"MPC_Professional_EnrollmentID\",\"MPC_Name\",\"Designation\",\"Group_Practice\",\n",
    "                \"Group_Practice_PAC_ID\",\"MPC_Addr_Line_1\",\"MPC_Addr_Line_2\",\"MPC_City_State_Zip\",\"MPC_RDI\",\"MPC_Phone\",\n",
    "                \"Primary_Specialty\",\"Medical_School\",\"Graduation_Year\",\"First_Received_Date\",\"Last_Received_Date\",\n",
    "                # --- AMA cols ---\n",
    "                \"AMA_MedProID\",\"AMA_Name\",\"AMA_Addr_Line_1\",\"AMA_Addr_Line_2\",\"AMA_City_State_Zip\",\"AMA_RDI\",\"AMA_Telephone\",\n",
    "                \"Medical_Education\",\"AMA_Provided_License_State\",\"AMA_Provided_State_License\",\"AMA_Provided_License_Expires\",\n",
    "                \"AMA_Provided_Status\",\"AMA_PDRP\",\"AMA_Contact_Restrictions\",\"Prof_Designation\",\"Primary_Specialty\",\n",
    "                \"Secondary_Specialty\",\"Birth_Date\",\"Birth_City_Country\",\"Graduation_School\",\"Year_of_Graduation\",\n",
    "                \"State_Provided_License\",\"As_of_Date\",\"Last_Received_Date\",\n",
    "                # --- BestInfo cols ---\n",
    "                \"BInfo_MedProMasterID\",\"HCP_Profile_Status\",\"HCP_Profile_Designation\",\"Veteran_Administration_HCP\",\n",
    "                \"Confidence_Level\",\"City_State_Zip\",\"LL_Primary\",\"LL_Secondary\",\"PL_Primary\",\"PL_Secondary\"\n",
    "              ]"
   ]
  },
  {
   "cell_type": "markdown",
   "metadata": {},
   "source": [
    "<p style= \"font-size: 15px\">Write the header columns to <b>csv</b> file</p>"
   ]
  },
  {
   "cell_type": "code",
   "execution_count": 6,
   "metadata": {},
   "outputs": [],
   "source": [
    "with open(r\"C:\\Users\\770430\\Desktop\\Biogen_NPI_Files\\Medpro\\Output\\medpro_hcp_write.csv\", \"w\", newline= '') as csv_out:\n",
    "    writer = csv.DictWriter(csv_out, fieldnames = OUTPUT_COLS)\n",
    "    writer.writeheader()"
   ]
  },
  {
   "cell_type": "markdown",
   "metadata": {},
   "source": [
    "<p style= \"font-size: 15px\">Define Medpro username and password</p>"
   ]
  },
  {
   "cell_type": "code",
   "execution_count": 7,
   "metadata": {},
   "outputs": [],
   "source": [
    "MEDPRO_USER = \"Biogen1\"\n",
    "MEDPRO_PWD  = \"NewPass2020!\""
   ]
  },
  {
   "cell_type": "markdown",
   "metadata": {},
   "source": [
    "<p style= \"font-size: 15px\">Define Chrome path and Medpro URL</p>"
   ]
  },
  {
   "cell_type": "code",
   "execution_count": 8,
   "metadata": {},
   "outputs": [],
   "source": [
    "CROME_PATH = (r\"C:\\Users\\770430\\Anaconda3\\chromedriver.exe\")\n",
    "MEDPRO_URL = \"https://www.medproid.com/WebID.asp?action=clear\""
   ]
  },
  {
   "cell_type": "code",
   "execution_count": 9,
   "metadata": {},
   "outputs": [],
   "source": [
    "chrome_options = Options()\n",
    "chrome_options.add_argument(\"--headless\")\n",
    "chrome_options.add_argument(\"--start-maximized\")\n",
    "chrome_options.proxy = None"
   ]
  },
  {
   "cell_type": "markdown",
   "metadata": {},
   "source": [
    "<p style= \"font-size: 15px\">Function to fetch <b>SLN</b> details of a particular entity</p>"
   ]
  },
  {
   "cell_type": "code",
   "execution_count": 10,
   "metadata": {},
   "outputs": [],
   "source": [
    "def getPrimary_SLN():\n",
    "    rows = driver.find_element_by_css_selector(\"div#DispSlnDetail tbody\").find_elements_by_tag_name(\"tr\")\n",
    "    #print(len(rows))\n",
    "    remove_hist_text = \"View History\"\n",
    "    remove_view_text = \"View All\"\n",
    "    sln_list = []\n",
    "    for r in rows:\n",
    "        cell = r.find_elements_by_css_selector(\"td\")\n",
    "        if (len(cell)>1):\n",
    "            addr1 = r.find_elements_by_id(\"spSlnAddrLine1Std\")\n",
    "            addr2 = r.find_elements_by_id(\"spSlnAddrLine2Std\")\n",
    "            cszip = r.find_elements_by_id(\"spSlnCityStateZip\")\n",
    "\n",
    "            if (addr1):\n",
    "                while (len(sln_list)<SLN_DICT[\"Address_1\"]):\n",
    "                    sln_list.append(\"\")\n",
    "                sln_list.append(addr1[0].get_attribute(\"textContent\").strip())\n",
    "            elif (addr2):\n",
    "                while (len(sln_list)<SLN_DICT[\"Address_2\"]):\n",
    "                    sln_list.append(\"\")\n",
    "                sln_list.append(addr2[0].get_attribute(\"textContent\").strip())\n",
    "            elif (cszip):\n",
    "                while (len(sln_list)<SLN_DICT[\"Zip\"]):\n",
    "                    sln_list.append(\"\")\n",
    "                sln_list.append(cszip[0].get_attribute(\"textContent\").strip())\n",
    "            else:\n",
    "                content_title = re.sub(\"[1-9-#:/]\", '', cell[0].get_attribute(\"textContent\")).strip()\n",
    "                content_title = re.sub(\"(of$)\", '', content_title).strip()\n",
    "                if (content_title in SLN_DICT):\n",
    "                    while (len(sln_list) < SLN_DICT[content_title]):\n",
    "                        sln_list.append(\"\")\n",
    "                    content = cell[1].get_attribute(\"textContent\").strip()\n",
    "                    if (remove_hist_text in content or remove_view_text in content):\n",
    "                        content = re.sub((remove_hist_text+'|'+remove_view_text), '', content)\n",
    "                        sln_list.append(content.strip())\n",
    "                    else:\n",
    "                        sln_list.append(content.strip())\n",
    "    \n",
    "    n = len(sln_list)\n",
    "    #print(n)\n",
    "    while (n < len_SLN_DICT):\n",
    "        sln_list.append(\"\")\n",
    "        n += 1\n",
    "        \n",
    "    return sln_list"
   ]
  },
  {
   "cell_type": "markdown",
   "metadata": {},
   "source": [
    "<p style= \"font-size: 15px\">Function to fetch <b>DEA</b> details of a particular entity</p>"
   ]
  },
  {
   "cell_type": "code",
   "execution_count": 11,
   "metadata": {},
   "outputs": [],
   "source": [
    "def getPrimary_DEA():\n",
    "    rows = driver.find_element_by_css_selector(\"div#DispDeaDetail tbody\").find_elements_by_tag_name(\"tr\")\n",
    "    #print(len(rows))\n",
    "    remove_hist_text = \"View History\"\n",
    "    remove_view_text = \"View All\"\n",
    "    dea_list = []\n",
    "    for r in rows:\n",
    "        cell = r.find_elements_by_css_selector(\"td\")\n",
    "        if (len(cell)>1):\n",
    "            addr1 = r.find_elements_by_id(\"spDeaAddrLine1Std\")\n",
    "            addr2 = r.find_elements_by_id(\"spDeaAddrLine2Std\")\n",
    "            cszip = r.find_elements_by_id(\"spDeaCityStateZip\")\n",
    "            \n",
    "            if (addr1):\n",
    "                while (len(dea_list)<DEA_DICT[\"Address_1\"]):\n",
    "                    dea_list.append(\"\")\n",
    "                dea_list.append(addr1[0].get_attribute(\"textContent\").strip())\n",
    "            elif (addr2):\n",
    "                while (len(dea_list)<DEA_DICT[\"Address_2\"]):\n",
    "                    dea_list.append(\"\")\n",
    "                dea_list.append(addr2[0].get_attribute(\"textContent\".strip()))\n",
    "            elif (cszip):\n",
    "                while (len(dea_list)<DEA_DICT[\"Zip\"]):\n",
    "                    dea_list.append(\"\")\n",
    "                dea_list.append(cszip[0].get_attribute(\"textContent\").strip())\n",
    "            else:\n",
    "                content_title = re.sub(\"[1-9-#:/]\", '', cell[0].get_attribute(\"textContent\")).strip()\n",
    "                content_title = re.sub(\"(of$)\", '', content_title).strip()\n",
    "                if (content_title in DEA_DICT):\n",
    "                    while (len(dea_list) < DEA_DICT[content_title]):\n",
    "                        dea_list.append(\"\")\n",
    "                    content = cell[1].get_attribute(\"textContent\").strip()\n",
    "                    if (remove_hist_text in content or remove_view_text in content):\n",
    "                        content = re.sub((remove_hist_text+'|'+remove_view_text), '', content)\n",
    "                        dea_list.append(content.strip())\n",
    "                    else:\n",
    "                        dea_list.append(content.strip())\n",
    "    \n",
    "    n = len(dea_list)\n",
    "    #print(n)\n",
    "    while (n < len_DEA_DICT):\n",
    "        dea_list.append(\"\")\n",
    "        n += 1\n",
    "                \n",
    "    return dea_list"
   ]
  },
  {
   "cell_type": "markdown",
   "metadata": {},
   "source": [
    "<p style= \"font-size: 15px\">Function to fetch <b>CDS</b> details of a particular entity</p>"
   ]
  },
  {
   "cell_type": "code",
   "execution_count": 12,
   "metadata": {},
   "outputs": [],
   "source": [
    "def getPrimary_CDS():\n",
    "    rows = driver.find_element_by_css_selector(\"div#DispCdsDetail tbody\").find_elements_by_tag_name(\"tr\")\n",
    "    #print(len(rows))\n",
    "    remove_hist_text = \"View History\"\n",
    "    remove_view_text = \"View All\"\n",
    "    cds_list = []\n",
    "    for r in rows:\n",
    "        cell = r.find_elements_by_css_selector(\"td\")\n",
    "        if (len(cell)>1):\n",
    "            addr1 = r.find_elements_by_id(\"spCdsAddrLine1Std\")\n",
    "            addr2 = r.find_elements_by_id(\"spCdsAddrLine2Std\")\n",
    "            cszip = r.find_elements_by_id(\"spCdsCityStateZip\")\n",
    "            \n",
    "            if (addr1):\n",
    "                while (len(cds_list)<CDS_DICT[\"Address_1\"]):\n",
    "                    cds_list.append(\"\")\n",
    "                cds_list.append(addr1[0].get_attribute(\"textContent\").strip())\n",
    "            elif (addr2):\n",
    "                while (len(cds_list)<CDS_DICT[\"Address_2\"]):\n",
    "                    cds_list.append(\"\")\n",
    "                cds_list.append(addr2[0].get_attribute(\"textContent\".strip()))\n",
    "            elif (cszip):\n",
    "                while (len(cds_list)<CDS_DICT[\"Zip\"]):\n",
    "                    cds_list.append(\"\")\n",
    "                cds_list.append(cszip[0].get_attribute(\"textContent\").strip())\n",
    "            else:\n",
    "                content_title = re.sub(\"[1-9-#:/]\", '', cell[0].get_attribute(\"textContent\")).strip()\n",
    "                content_title = re.sub(\"(of$)\", '', content_title).strip()\n",
    "                if (content_title in CDS_DICT):\n",
    "                    while (len(cds_list) < CDS_DICT[content_title]):\n",
    "                        cds_list.append(\"\")\n",
    "                    content = cell[1].get_attribute(\"textContent\").strip()\n",
    "                    if (remove_hist_text in content or remove_view_text in content):\n",
    "                        content = re.sub((remove_hist_text+'|'+remove_view_text), '', content)\n",
    "                        cds_list.append(content.strip())\n",
    "                    else:\n",
    "                        cds_list.append(content.strip())\n",
    "    \n",
    "    n = len(cds_list)\n",
    "    #print(n)\n",
    "    while (n < len_CDS_DICT):\n",
    "        cds_list.append(\"\")\n",
    "        n += 1\n",
    "                        \n",
    "    return cds_list"
   ]
  },
  {
   "cell_type": "markdown",
   "metadata": {},
   "source": [
    "<p style= \"font-size: 15px\">Function to fetch <b>NPI</b> details of a particular entity</p>"
   ]
  },
  {
   "cell_type": "code",
   "execution_count": 13,
   "metadata": {},
   "outputs": [],
   "source": [
    "def updtNPI_Dict(rdi, phone, fax):\n",
    "        NPI_DICT[\"RDI\"] = rdi\n",
    "        NPI_DICT[\"Phone\"] = phone\n",
    "        NPI_DICT[\"Fax\"] = fax\n",
    "        #print(NPI_DICT)\n",
    "\n",
    "def getPrimary_NPI():\n",
    "    rows = driver.find_element_by_css_selector(\"div#DispNpiDetail tbody\").find_elements_by_tag_name(\"tr\")\n",
    "    #print(len(rows))\n",
    "    remove_hist_text = \"View History\"\n",
    "    remove_view_text = \"View All\"\n",
    "    npi_list = []\n",
    "        \n",
    "    for r in rows:\n",
    "        cell = r.find_elements_by_css_selector(\"td\")\n",
    "        if (len(cell)>1):\n",
    "            addr1 = r.find_elements_by_id(\"spNpi2AddrLine1Std\")\n",
    "            cszip1 = r.find_elements_by_id(\"spNpi2CityStateZip\")\n",
    "            addr2 = r.find_elements_by_id(\"spNpiAddrLine1Std\")\n",
    "            cszip2 = r.find_elements_by_id(\"spNpiCityStateZip\")\n",
    "            \n",
    "            if (addr1):\n",
    "                while (len(npi_list)<NPI_DICT[\"Mailing_Address\"]):\n",
    "                    npi_list.append(\"\")\n",
    "                updtNPI_Dict(4,5,6)         # Call func to update 'rdi','phone','fax' values in NPI Dictionary\n",
    "                npi_list.append(addr1[0].get_attribute(\"textContent\").strip())\n",
    "            elif (addr2):\n",
    "                while (len(npi_list)<NPI_DICT[\"Business_Address\"]):\n",
    "                    npi_list.append(\"\")\n",
    "                updtNPI_Dict(9,10,11)      # Call func to update 'rdi','phone','fax' values in NPI Dictionary\n",
    "                npi_list.append(addr2[0].get_attribute(\"textContent\".strip()))\n",
    "            elif (cszip1):\n",
    "                while (len(npi_list)<NPI_DICT[\"Mail_Zip\"]):\n",
    "                    npi_list.append(\"\")\n",
    "                npi_list.append(cszip1[0].get_attribute(\"textContent\").strip())\n",
    "            elif (cszip2):\n",
    "                while (len(npi_list)<NPI_DICT[\"Bus_Zip\"]):\n",
    "                    npi_list.append(\"\")\n",
    "                npi_list.append(cszip2[0].get_attribute(\"textContent\").strip())\n",
    "            else:\n",
    "                content_title = re.sub(\"[1-9-#:/]\", '', cell[0].get_attribute(\"textContent\")).strip()\n",
    "                content_title = re.sub(\"(of$)\", '', content_title).strip()\n",
    "                if (content_title in NPI_DICT):\n",
    "                    while (len(npi_list) < NPI_DICT[content_title]):\n",
    "                        npi_list.append(\"\")\n",
    "                    content = cell[1].get_attribute(\"textContent\").strip()\n",
    "                    if (remove_hist_text in content or remove_view_text in content):\n",
    "                        content = re.sub((remove_hist_text+'|'+remove_view_text), '', content)\n",
    "                        npi_list.append(content.strip())\n",
    "                    else:\n",
    "                        npi_list.append(content.strip())\n",
    "\n",
    "    n = len(npi_list)\n",
    "    #print(n)\n",
    "    while (n < len_NPI_DICT+3):\n",
    "        npi_list.append(\"\")\n",
    "        n += 1\n",
    "        \n",
    "    updtNPI_Dict(0,0,0)                \n",
    "    return npi_list"
   ]
  },
  {
   "cell_type": "markdown",
   "metadata": {},
   "source": [
    "<p style= \"font-size: 15px\">Function to fetch <b>MPC</b> details of a particular entity</p>"
   ]
  },
  {
   "cell_type": "code",
   "execution_count": 14,
   "metadata": {},
   "outputs": [],
   "source": [
    "def getPrimary_MPC():\n",
    "    rows = driver.find_element_by_css_selector(\"div#DispMedicare tbody\").find_elements_by_tag_name(\"tr\")\n",
    "    #print(len(rows))\n",
    "    remove_hist_text = \"View History\"\n",
    "    remove_view_text = \"View All\"\n",
    "    mpc_list = []\n",
    "    for r in rows:\n",
    "        cell = r.find_elements_by_css_selector(\"td\")\n",
    "        if (len(cell)>1):\n",
    "            addr1 = r.find_elements_by_id(\"spMpcAddrLine1\")\n",
    "            addr2 = r.find_elements_by_id(\"spMpcAddrLine2\")\n",
    "            cszip = r.find_elements_by_id(\"spMpcCityStateZip\")\n",
    "            \n",
    "            if (addr1):\n",
    "                while (len(mpc_list)<MPC_DICT[\"Address_1\"]):\n",
    "                    mpc_list.append(\"\")\n",
    "                mpc_list.append(addr1[0].get_attribute(\"textContent\").strip())\n",
    "            elif (addr2):\n",
    "                while (len(mpc_list)<MPC_DICT[\"Address_2\"]):\n",
    "                    mpc_list.append(\"\")\n",
    "                mpc_list.append(addr2[0].get_attribute(\"textContent\".strip()))\n",
    "            elif (cszip):\n",
    "                while (len(mpc_list)<MPC_DICT[\"Zip\"]):\n",
    "                    mpc_list.append(\"\")\n",
    "                mpc_list.append(cszip[0].get_attribute(\"textContent\").strip())\n",
    "            else:\n",
    "                content_title = re.sub(\"[1-9-#:/]\", '', cell[0].get_attribute(\"textContent\")).strip()\n",
    "                content_title = re.sub(\"(of$)\", '', content_title).strip()\n",
    "                if (content_title in MPC_DICT):\n",
    "                    while (len(mpc_list) < MPC_DICT[content_title]):\n",
    "                        mpc_list.append(\"\")\n",
    "                    content = cell[1].get_attribute(\"textContent\").strip()\n",
    "                    if (remove_hist_text in content or remove_view_text in content):\n",
    "                        content = re.sub((remove_hist_text+'|'+remove_view_text), '', content)\n",
    "                        mpc_list.append(content.strip())\n",
    "                    else:\n",
    "                        mpc_list.append(content.strip())\n",
    "    \n",
    "    n = len(mpc_list)\n",
    "    #print(n)\n",
    "    while (n < len_MPC_DICT):\n",
    "        mpc_list.append(\"\")\n",
    "        n += 1\n",
    "                        \n",
    "    return mpc_list"
   ]
  },
  {
   "cell_type": "markdown",
   "metadata": {},
   "source": [
    "<p style= \"font-size: 15px\">Function to fetch <b>AMA</b> details of a particular entity</p>"
   ]
  },
  {
   "cell_type": "code",
   "execution_count": 15,
   "metadata": {},
   "outputs": [],
   "source": [
    "def getPrimary_AMA():\n",
    "    rows = driver.find_element_by_css_selector(\"div#DispAmaDetail tbody\").find_elements_by_tag_name(\"tr\")\n",
    "    #print(len(rows))\n",
    "    remove_hist_text = \"View History\"\n",
    "    remove_view_text = \"View All\"\n",
    "    ama_list = []\n",
    "    for r in rows:\n",
    "        cell = r.find_elements_by_css_selector(\"td\")\n",
    "        if (len(cell)>1):\n",
    "            addr1 = r.find_elements_by_id(\"spAmaAddrLine1\")\n",
    "            addr2 = r.find_elements_by_id(\"spAmaAddrLine2\")\n",
    "            cszip = r.find_elements_by_id(\"spAmaCityStateZip\")\n",
    "            \n",
    "            if (addr1):\n",
    "                while (len(ama_list)<AMA_DICT[\"Address_1\"]):\n",
    "                    ama_list.append(\"\")\n",
    "                ama_list.append(addr1[0].get_attribute(\"textContent\").strip())\n",
    "            elif (addr2):\n",
    "                while (len(ama_list)<AMA_DICT[\"Address_2\"]):\n",
    "                    ama_list.append(\"\")\n",
    "                ama_list.append(addr2[0].get_attribute(\"textContent\".strip()))\n",
    "            elif (cszip):\n",
    "                while (len(ama_list)<AMA_DICT[\"Zip\"]):\n",
    "                    ama_list.append(\"\")\n",
    "                ama_list.append(cszip[0].get_attribute(\"textContent\").strip())\n",
    "            else:\n",
    "                content_title = re.sub(\"[1-9-#:/]\", '', cell[0].get_attribute(\"textContent\")).strip()\n",
    "                content_title = re.sub(\"(of$)\", '', content_title).strip()\n",
    "                if (content_title in AMA_DICT):\n",
    "                    while (len(ama_list) < AMA_DICT[content_title]):\n",
    "                        ama_list.append(\"\")\n",
    "                    content = cell[1].get_attribute(\"textContent\").strip()\n",
    "                    if (remove_hist_text in content or remove_view_text in content):\n",
    "                        content = re.sub((remove_hist_text+'|'+remove_view_text), '', content)\n",
    "                        ama_list.append(content.strip())\n",
    "                    else:\n",
    "                        ama_list.append(content.strip())\n",
    "    \n",
    "    n = len(ama_list)\n",
    "    #print(n)\n",
    "    while (n < len_AMA_DICT):\n",
    "        ama_list.append('')\n",
    "        n += 1\n",
    "                        \n",
    "    return ama_list"
   ]
  },
  {
   "cell_type": "markdown",
   "metadata": {},
   "source": [
    "<p style= \"font-size: 15px\">Function to fetch <b>BestInfo</b> details of a particular entity</p>"
   ]
  },
  {
   "cell_type": "code",
   "execution_count": 16,
   "metadata": {},
   "outputs": [],
   "source": [
    "def getPrimary_BestInfo():\n",
    "    rows = driver.find_element_by_css_selector(\"div#DispBestInfo tbody\").find_elements_by_tag_name(\"tr\")\n",
    "    #print(len(rows))\n",
    "    bestInfo_list = []\n",
    "    for r in rows:\n",
    "        cell = r.find_elements_by_css_selector(\"td\")\n",
    "        if (len(cell)>1):\n",
    "            content_title = cell[0].get_attribute(\"textContent\")\n",
    "            if (re.sub(\"[-#:/]\", '', content_title).strip() in BESTINFO_SET):\n",
    "                content = cell[1].get_attribute(\"textContent\").strip()\n",
    "                bestInfo_list.append(content.strip())\n",
    "    \n",
    "    n = len(bestInfo_list)\n",
    "    #print(n)\n",
    "    if (n < (len_BESTINFO_SET+2)):\n",
    "        while (n < (len_BESTINFO_SET+2)):\n",
    "            bestInfo_list.append('')\n",
    "            n += 1\n",
    "                        \n",
    "    return bestInfo_list"
   ]
  },
  {
   "cell_type": "markdown",
   "metadata": {},
   "source": [
    "<h3>Driver function to write data into csv file</h3>"
   ]
  },
  {
   "cell_type": "code",
   "execution_count": 17,
   "metadata": {},
   "outputs": [],
   "source": [
    "def writeData_to_csv():\n",
    "    with open(r\"C:\\Users\\770430\\Desktop\\Biogen_NPI_Files\\Medpro\\Output\\medpro_hcp_write.csv\", \"a\", newline= '') as app_csv:\n",
    "        writer = csv.writer(app_csv)\n",
    "        rows = driver.find_element_by_id(\"tblHeader\").find_elements_by_css_selector(\"tr.GridRowOdd\")\n",
    "        #print(len(rows))\n",
    "        next_row = -1\n",
    "        for _ in range(len(rows)+1):\n",
    "            if (next_row>=0):\n",
    "                curr_row[next_row].click()\n",
    "\n",
    "            total_list = getPrimary_SLN() + getPrimary_DEA() + getPrimary_CDS() + getPrimary_NPI() + getPrimary_MPC() + getPrimary_AMA() + getPrimary_BestInfo()\n",
    "            writer.writerow(total_list)\n",
    "            curr_row = driver.find_element_by_id(\"tblHeader\").find_elements_by_css_selector(\"tr.GridRowOdd\")\n",
    "            next_row += 1\n",
    "            #print(next_row)"
   ]
  },
  {
   "cell_type": "markdown",
   "metadata": {},
   "source": [
    "<p style= \"font-size: 15px\">Start the <b>webDriver</b></p>"
   ]
  },
  {
   "cell_type": "code",
   "execution_count": 18,
   "metadata": {},
   "outputs": [],
   "source": [
    "driver = webdriver.Chrome(options=chrome_options, executable_path=CROME_PATH)\n",
    "driver.get(MEDPRO_URL)"
   ]
  },
  {
   "cell_type": "code",
   "execution_count": 19,
   "metadata": {},
   "outputs": [],
   "source": [
    "WebDriverWait(driver,10).until(EC.visibility_of_element_located((By.ID, \"loginform\")))\n",
    "driver.find_element_by_id(\"loginUsername\").send_keys(MEDPRO_USER)\n",
    "driver.find_element_by_id(\"loginPassword\").send_keys(MEDPRO_PWD)\n",
    "driver.find_element_by_id(\"btnLogin\").click()\n",
    "WebDriverWait(driver,10).until(EC.visibility_of_element_located((By.CSS_SELECTOR, \"td[onclick*='/WebID.asp']\"))).click()"
   ]
  },
  {
   "cell_type": "markdown",
   "metadata": {},
   "source": [
    "<p style= \"font-size: 15px\">Loop through each combination in the dataframe</p>"
   ]
  },
  {
   "cell_type": "code",
   "execution_count": 20,
   "metadata": {},
   "outputs": [
    {
     "data": {
      "application/vnd.jupyter.widget-view+json": {
       "model_id": "354ca988ec264eb3a9eb7ac202722832",
       "version_major": 2,
       "version_minor": 0
      },
      "text/plain": [
       "HBox(children=(FloatProgress(value=0.0, description='Writing to file... ', max=4.0, style=ProgressStyle(descri…"
      ]
     },
     "metadata": {},
     "output_type": "display_data"
    },
    {
     "name": "stdout",
     "output_type": "stream",
     "text": [
      "\n",
      "\n",
      "Process Completed.\n"
     ]
    }
   ],
   "source": [
    "for elem in tqdm(range(len(df)), desc=\"Writing to file... \"):\n",
    "    #WebDriverWait(driver,10).until(EC.visibility_of_element_located((By.ID, \"quickSearch\"))).send_keys(1225181969)\n",
    "    driver.find_element_by_id(\"quickSearch\").clear()\n",
    "    driver.find_element_by_id(\"quickSearch\").send_keys(\"{0} {1} {2} {3} {4} {5}\".format(df.iloc[elem,0],df.iloc[elem,1],\n",
    "                                                                                        df.iloc[elem,2],df.iloc[elem,3],\n",
    "                                                                                        df.iloc[elem,4],df.iloc[elem,5]))\n",
    "    WebDriverWait(driver,10).until(EC.visibility_of_element_located((By.ID, \"retrieveAllBtn\"))).click()\n",
    "    writeData_to_csv()\n",
    "print(\"\\nClosing Driver...\",end=\"\\r\")\n",
    "driver.quit()\n",
    "print(\"Process Completed.\")"
   ]
  },
  {
   "cell_type": "code",
   "execution_count": 95,
   "metadata": {},
   "outputs": [],
   "source": [
    "driver.quit()"
   ]
  }
 ],
 "metadata": {
  "kernelspec": {
   "display_name": "Python 3",
   "language": "python",
   "name": "python3"
  },
  "language_info": {
   "codemirror_mode": {
    "name": "ipython",
    "version": 3
   },
   "file_extension": ".py",
   "mimetype": "text/x-python",
   "name": "python",
   "nbconvert_exporter": "python",
   "pygments_lexer": "ipython3",
   "version": "3.7.6"
  }
 },
 "nbformat": 4,
 "nbformat_minor": 4
}
